{
 "cells": [
  {
   "cell_type": "code",
   "execution_count": 1,
   "metadata": {
    "id": "oAXpYXxKSU9e"
   },
   "outputs": [],
   "source": [
    "# importing libraries\n",
    "import pandas as pd\n",
    "import matplotlib.pyplot as plt\n",
    "%matplotlib inline\n",
    "import seaborn as sns"
   ]
  },
  {
   "cell_type": "code",
   "execution_count": 2,
   "metadata": {},
   "outputs": [],
   "source": [
    "#setting parameters for all plots\n",
    "plt.rcParams['figure.figsize'] = [15,7]\n",
    "plt.rcParams['font.size'] = 14\n",
    "sns.set_palette('muted',color_codes=True)\n",
    "sns.set_context('notebook', font_scale=1.4)\n",
    "vc_color = '#B5C9EB'\n"
   ]
  },
  {
   "cell_type": "code",
   "execution_count": 3,
   "metadata": {
    "id": "GjVxmXBHSU_K",
    "outputId": "e5884161-6026-4153-864c-465e218872b7"
   },
   "outputs": [
    {
     "data": {
      "text/html": [
       "<div>\n",
       "<style scoped>\n",
       "    .dataframe tbody tr th:only-of-type {\n",
       "        vertical-align: middle;\n",
       "    }\n",
       "\n",
       "    .dataframe tbody tr th {\n",
       "        vertical-align: top;\n",
       "    }\n",
       "\n",
       "    .dataframe thead th {\n",
       "        text-align: right;\n",
       "    }\n",
       "</style>\n",
       "<table border=\"1\" class=\"dataframe\">\n",
       "  <thead>\n",
       "    <tr style=\"text-align: right;\">\n",
       "      <th></th>\n",
       "      <th>Name</th>\n",
       "      <th>Author</th>\n",
       "      <th>User Rating</th>\n",
       "      <th>Reviews</th>\n",
       "      <th>Price</th>\n",
       "      <th>Year</th>\n",
       "      <th>Genre</th>\n",
       "    </tr>\n",
       "  </thead>\n",
       "  <tbody>\n",
       "    <tr>\n",
       "      <th>0</th>\n",
       "      <td>10-Day Green Smoothie Cleanse</td>\n",
       "      <td>JJ Smith</td>\n",
       "      <td>4.7</td>\n",
       "      <td>17350</td>\n",
       "      <td>8</td>\n",
       "      <td>2016</td>\n",
       "      <td>Non Fiction</td>\n",
       "    </tr>\n",
       "    <tr>\n",
       "      <th>1</th>\n",
       "      <td>11/22/63: A Novel</td>\n",
       "      <td>Stephen King</td>\n",
       "      <td>4.6</td>\n",
       "      <td>2052</td>\n",
       "      <td>22</td>\n",
       "      <td>2011</td>\n",
       "      <td>Fiction</td>\n",
       "    </tr>\n",
       "    <tr>\n",
       "      <th>2</th>\n",
       "      <td>12 Rules for Life: An Antidote to Chaos</td>\n",
       "      <td>Jordan B. Peterson</td>\n",
       "      <td>4.7</td>\n",
       "      <td>18979</td>\n",
       "      <td>15</td>\n",
       "      <td>2018</td>\n",
       "      <td>Non Fiction</td>\n",
       "    </tr>\n",
       "    <tr>\n",
       "      <th>3</th>\n",
       "      <td>1984 (Signet Classics)</td>\n",
       "      <td>George Orwell</td>\n",
       "      <td>4.7</td>\n",
       "      <td>21424</td>\n",
       "      <td>6</td>\n",
       "      <td>2017</td>\n",
       "      <td>Fiction</td>\n",
       "    </tr>\n",
       "    <tr>\n",
       "      <th>4</th>\n",
       "      <td>5,000 Awesome Facts (About Everything!) (Natio...</td>\n",
       "      <td>National Geographic Kids</td>\n",
       "      <td>4.8</td>\n",
       "      <td>7665</td>\n",
       "      <td>12</td>\n",
       "      <td>2019</td>\n",
       "      <td>Non Fiction</td>\n",
       "    </tr>\n",
       "    <tr>\n",
       "      <th>...</th>\n",
       "      <td>...</td>\n",
       "      <td>...</td>\n",
       "      <td>...</td>\n",
       "      <td>...</td>\n",
       "      <td>...</td>\n",
       "      <td>...</td>\n",
       "      <td>...</td>\n",
       "    </tr>\n",
       "    <tr>\n",
       "      <th>545</th>\n",
       "      <td>Wrecking Ball (Diary of a Wimpy Kid Book 14)</td>\n",
       "      <td>Jeff Kinney</td>\n",
       "      <td>4.9</td>\n",
       "      <td>9413</td>\n",
       "      <td>8</td>\n",
       "      <td>2019</td>\n",
       "      <td>Fiction</td>\n",
       "    </tr>\n",
       "    <tr>\n",
       "      <th>546</th>\n",
       "      <td>You Are a Badass: How to Stop Doubting Your Gr...</td>\n",
       "      <td>Jen Sincero</td>\n",
       "      <td>4.7</td>\n",
       "      <td>14331</td>\n",
       "      <td>8</td>\n",
       "      <td>2016</td>\n",
       "      <td>Non Fiction</td>\n",
       "    </tr>\n",
       "    <tr>\n",
       "      <th>547</th>\n",
       "      <td>You Are a Badass: How to Stop Doubting Your Gr...</td>\n",
       "      <td>Jen Sincero</td>\n",
       "      <td>4.7</td>\n",
       "      <td>14331</td>\n",
       "      <td>8</td>\n",
       "      <td>2017</td>\n",
       "      <td>Non Fiction</td>\n",
       "    </tr>\n",
       "    <tr>\n",
       "      <th>548</th>\n",
       "      <td>You Are a Badass: How to Stop Doubting Your Gr...</td>\n",
       "      <td>Jen Sincero</td>\n",
       "      <td>4.7</td>\n",
       "      <td>14331</td>\n",
       "      <td>8</td>\n",
       "      <td>2018</td>\n",
       "      <td>Non Fiction</td>\n",
       "    </tr>\n",
       "    <tr>\n",
       "      <th>549</th>\n",
       "      <td>You Are a Badass: How to Stop Doubting Your Gr...</td>\n",
       "      <td>Jen Sincero</td>\n",
       "      <td>4.7</td>\n",
       "      <td>14331</td>\n",
       "      <td>8</td>\n",
       "      <td>2019</td>\n",
       "      <td>Non Fiction</td>\n",
       "    </tr>\n",
       "  </tbody>\n",
       "</table>\n",
       "<p>550 rows × 7 columns</p>\n",
       "</div>"
      ],
      "text/plain": [
       "                                                  Name  \\\n",
       "0                        10-Day Green Smoothie Cleanse   \n",
       "1                                    11/22/63: A Novel   \n",
       "2              12 Rules for Life: An Antidote to Chaos   \n",
       "3                               1984 (Signet Classics)   \n",
       "4    5,000 Awesome Facts (About Everything!) (Natio...   \n",
       "..                                                 ...   \n",
       "545       Wrecking Ball (Diary of a Wimpy Kid Book 14)   \n",
       "546  You Are a Badass: How to Stop Doubting Your Gr...   \n",
       "547  You Are a Badass: How to Stop Doubting Your Gr...   \n",
       "548  You Are a Badass: How to Stop Doubting Your Gr...   \n",
       "549  You Are a Badass: How to Stop Doubting Your Gr...   \n",
       "\n",
       "                       Author  User Rating  Reviews  Price  Year        Genre  \n",
       "0                    JJ Smith          4.7    17350      8  2016  Non Fiction  \n",
       "1                Stephen King          4.6     2052     22  2011      Fiction  \n",
       "2          Jordan B. Peterson          4.7    18979     15  2018  Non Fiction  \n",
       "3               George Orwell          4.7    21424      6  2017      Fiction  \n",
       "4    National Geographic Kids          4.8     7665     12  2019  Non Fiction  \n",
       "..                        ...          ...      ...    ...   ...          ...  \n",
       "545               Jeff Kinney          4.9     9413      8  2019      Fiction  \n",
       "546               Jen Sincero          4.7    14331      8  2016  Non Fiction  \n",
       "547               Jen Sincero          4.7    14331      8  2017  Non Fiction  \n",
       "548               Jen Sincero          4.7    14331      8  2018  Non Fiction  \n",
       "549               Jen Sincero          4.7    14331      8  2019  Non Fiction  \n",
       "\n",
       "[550 rows x 7 columns]"
      ]
     },
     "execution_count": 3,
     "metadata": {},
     "output_type": "execute_result"
    }
   ],
   "source": [
    "# loading data\n",
    "path = ('C:\\\\Users\\\\RONKE\\\\Downloads\\\\bestsellers with categories.csv')\n",
    "data = pd.read_csv(path)\n",
    "data"
   ]
  },
  {
   "cell_type": "markdown",
   "metadata": {
    "id": "PmYGR8mhSU_d"
   },
   "source": [
    "## Inspecting dataframe"
   ]
  },
  {
   "cell_type": "code",
   "execution_count": 4,
   "metadata": {
    "colab": {
     "base_uri": "https://localhost:8080/",
     "height": 195
    },
    "id": "iZP8L5DPSU_g",
    "outputId": "38cedaa9-a065-4c5a-88cf-d8631abd722c"
   },
   "outputs": [
    {
     "data": {
      "text/html": [
       "<div>\n",
       "<style scoped>\n",
       "    .dataframe tbody tr th:only-of-type {\n",
       "        vertical-align: middle;\n",
       "    }\n",
       "\n",
       "    .dataframe tbody tr th {\n",
       "        vertical-align: top;\n",
       "    }\n",
       "\n",
       "    .dataframe thead th {\n",
       "        text-align: right;\n",
       "    }\n",
       "</style>\n",
       "<table border=\"1\" class=\"dataframe\">\n",
       "  <thead>\n",
       "    <tr style=\"text-align: right;\">\n",
       "      <th></th>\n",
       "      <th>Name</th>\n",
       "      <th>Author</th>\n",
       "      <th>User Rating</th>\n",
       "      <th>Reviews</th>\n",
       "      <th>Price</th>\n",
       "      <th>Year</th>\n",
       "      <th>Genre</th>\n",
       "    </tr>\n",
       "  </thead>\n",
       "  <tbody>\n",
       "    <tr>\n",
       "      <th>0</th>\n",
       "      <td>10-Day Green Smoothie Cleanse</td>\n",
       "      <td>JJ Smith</td>\n",
       "      <td>4.7</td>\n",
       "      <td>17350</td>\n",
       "      <td>8</td>\n",
       "      <td>2016</td>\n",
       "      <td>Non Fiction</td>\n",
       "    </tr>\n",
       "    <tr>\n",
       "      <th>1</th>\n",
       "      <td>11/22/63: A Novel</td>\n",
       "      <td>Stephen King</td>\n",
       "      <td>4.6</td>\n",
       "      <td>2052</td>\n",
       "      <td>22</td>\n",
       "      <td>2011</td>\n",
       "      <td>Fiction</td>\n",
       "    </tr>\n",
       "    <tr>\n",
       "      <th>2</th>\n",
       "      <td>12 Rules for Life: An Antidote to Chaos</td>\n",
       "      <td>Jordan B. Peterson</td>\n",
       "      <td>4.7</td>\n",
       "      <td>18979</td>\n",
       "      <td>15</td>\n",
       "      <td>2018</td>\n",
       "      <td>Non Fiction</td>\n",
       "    </tr>\n",
       "    <tr>\n",
       "      <th>3</th>\n",
       "      <td>1984 (Signet Classics)</td>\n",
       "      <td>George Orwell</td>\n",
       "      <td>4.7</td>\n",
       "      <td>21424</td>\n",
       "      <td>6</td>\n",
       "      <td>2017</td>\n",
       "      <td>Fiction</td>\n",
       "    </tr>\n",
       "    <tr>\n",
       "      <th>4</th>\n",
       "      <td>5,000 Awesome Facts (About Everything!) (Natio...</td>\n",
       "      <td>National Geographic Kids</td>\n",
       "      <td>4.8</td>\n",
       "      <td>7665</td>\n",
       "      <td>12</td>\n",
       "      <td>2019</td>\n",
       "      <td>Non Fiction</td>\n",
       "    </tr>\n",
       "  </tbody>\n",
       "</table>\n",
       "</div>"
      ],
      "text/plain": [
       "                                                Name  \\\n",
       "0                      10-Day Green Smoothie Cleanse   \n",
       "1                                  11/22/63: A Novel   \n",
       "2            12 Rules for Life: An Antidote to Chaos   \n",
       "3                             1984 (Signet Classics)   \n",
       "4  5,000 Awesome Facts (About Everything!) (Natio...   \n",
       "\n",
       "                     Author  User Rating  Reviews  Price  Year        Genre  \n",
       "0                  JJ Smith          4.7    17350      8  2016  Non Fiction  \n",
       "1              Stephen King          4.6     2052     22  2011      Fiction  \n",
       "2        Jordan B. Peterson          4.7    18979     15  2018  Non Fiction  \n",
       "3             George Orwell          4.7    21424      6  2017      Fiction  \n",
       "4  National Geographic Kids          4.8     7665     12  2019  Non Fiction  "
      ]
     },
     "execution_count": 4,
     "metadata": {},
     "output_type": "execute_result"
    }
   ],
   "source": [
    "data.head() # check first 5 rows of dataset"
   ]
  },
  {
   "cell_type": "code",
   "execution_count": 5,
   "metadata": {
    "colab": {
     "base_uri": "https://localhost:8080/",
     "height": 195
    },
    "id": "ln6WbXK5SVAR",
    "outputId": "1abf71ad-5f9b-4d09-ee78-731676de595d"
   },
   "outputs": [
    {
     "data": {
      "text/html": [
       "<div>\n",
       "<style scoped>\n",
       "    .dataframe tbody tr th:only-of-type {\n",
       "        vertical-align: middle;\n",
       "    }\n",
       "\n",
       "    .dataframe tbody tr th {\n",
       "        vertical-align: top;\n",
       "    }\n",
       "\n",
       "    .dataframe thead th {\n",
       "        text-align: right;\n",
       "    }\n",
       "</style>\n",
       "<table border=\"1\" class=\"dataframe\">\n",
       "  <thead>\n",
       "    <tr style=\"text-align: right;\">\n",
       "      <th></th>\n",
       "      <th>Name</th>\n",
       "      <th>Author</th>\n",
       "      <th>User Rating</th>\n",
       "      <th>Reviews</th>\n",
       "      <th>Price</th>\n",
       "      <th>Year</th>\n",
       "      <th>Genre</th>\n",
       "    </tr>\n",
       "  </thead>\n",
       "  <tbody>\n",
       "    <tr>\n",
       "      <th>545</th>\n",
       "      <td>Wrecking Ball (Diary of a Wimpy Kid Book 14)</td>\n",
       "      <td>Jeff Kinney</td>\n",
       "      <td>4.9</td>\n",
       "      <td>9413</td>\n",
       "      <td>8</td>\n",
       "      <td>2019</td>\n",
       "      <td>Fiction</td>\n",
       "    </tr>\n",
       "    <tr>\n",
       "      <th>546</th>\n",
       "      <td>You Are a Badass: How to Stop Doubting Your Gr...</td>\n",
       "      <td>Jen Sincero</td>\n",
       "      <td>4.7</td>\n",
       "      <td>14331</td>\n",
       "      <td>8</td>\n",
       "      <td>2016</td>\n",
       "      <td>Non Fiction</td>\n",
       "    </tr>\n",
       "    <tr>\n",
       "      <th>547</th>\n",
       "      <td>You Are a Badass: How to Stop Doubting Your Gr...</td>\n",
       "      <td>Jen Sincero</td>\n",
       "      <td>4.7</td>\n",
       "      <td>14331</td>\n",
       "      <td>8</td>\n",
       "      <td>2017</td>\n",
       "      <td>Non Fiction</td>\n",
       "    </tr>\n",
       "    <tr>\n",
       "      <th>548</th>\n",
       "      <td>You Are a Badass: How to Stop Doubting Your Gr...</td>\n",
       "      <td>Jen Sincero</td>\n",
       "      <td>4.7</td>\n",
       "      <td>14331</td>\n",
       "      <td>8</td>\n",
       "      <td>2018</td>\n",
       "      <td>Non Fiction</td>\n",
       "    </tr>\n",
       "    <tr>\n",
       "      <th>549</th>\n",
       "      <td>You Are a Badass: How to Stop Doubting Your Gr...</td>\n",
       "      <td>Jen Sincero</td>\n",
       "      <td>4.7</td>\n",
       "      <td>14331</td>\n",
       "      <td>8</td>\n",
       "      <td>2019</td>\n",
       "      <td>Non Fiction</td>\n",
       "    </tr>\n",
       "  </tbody>\n",
       "</table>\n",
       "</div>"
      ],
      "text/plain": [
       "                                                  Name       Author  \\\n",
       "545       Wrecking Ball (Diary of a Wimpy Kid Book 14)  Jeff Kinney   \n",
       "546  You Are a Badass: How to Stop Doubting Your Gr...  Jen Sincero   \n",
       "547  You Are a Badass: How to Stop Doubting Your Gr...  Jen Sincero   \n",
       "548  You Are a Badass: How to Stop Doubting Your Gr...  Jen Sincero   \n",
       "549  You Are a Badass: How to Stop Doubting Your Gr...  Jen Sincero   \n",
       "\n",
       "     User Rating  Reviews  Price  Year        Genre  \n",
       "545          4.9     9413      8  2019      Fiction  \n",
       "546          4.7    14331      8  2016  Non Fiction  \n",
       "547          4.7    14331      8  2017  Non Fiction  \n",
       "548          4.7    14331      8  2018  Non Fiction  \n",
       "549          4.7    14331      8  2019  Non Fiction  "
      ]
     },
     "execution_count": 5,
     "metadata": {},
     "output_type": "execute_result"
    }
   ],
   "source": [
    "data.tail() # check last 5 rows of dataset"
   ]
  },
  {
   "cell_type": "code",
   "execution_count": 6,
   "metadata": {
    "id": "X9hJVYG3SVAa",
    "outputId": "398a1a64-7ebc-41c9-c1bc-d332386ac7d0"
   },
   "outputs": [
    {
     "data": {
      "text/html": [
       "<div>\n",
       "<style scoped>\n",
       "    .dataframe tbody tr th:only-of-type {\n",
       "        vertical-align: middle;\n",
       "    }\n",
       "\n",
       "    .dataframe tbody tr th {\n",
       "        vertical-align: top;\n",
       "    }\n",
       "\n",
       "    .dataframe thead th {\n",
       "        text-align: right;\n",
       "    }\n",
       "</style>\n",
       "<table border=\"1\" class=\"dataframe\">\n",
       "  <thead>\n",
       "    <tr style=\"text-align: right;\">\n",
       "      <th></th>\n",
       "      <th>Name</th>\n",
       "      <th>Author</th>\n",
       "      <th>User Rating</th>\n",
       "      <th>Reviews</th>\n",
       "      <th>Price</th>\n",
       "      <th>Year</th>\n",
       "      <th>Genre</th>\n",
       "    </tr>\n",
       "  </thead>\n",
       "  <tbody>\n",
       "    <tr>\n",
       "      <th>178</th>\n",
       "      <td>If Animals Kissed Good Night</td>\n",
       "      <td>Ann Whitford Paul</td>\n",
       "      <td>4.8</td>\n",
       "      <td>16643</td>\n",
       "      <td>4</td>\n",
       "      <td>2017</td>\n",
       "      <td>Fiction</td>\n",
       "    </tr>\n",
       "    <tr>\n",
       "      <th>259</th>\n",
       "      <td>Orphan Train</td>\n",
       "      <td>Christina Baker Kline</td>\n",
       "      <td>4.6</td>\n",
       "      <td>21930</td>\n",
       "      <td>11</td>\n",
       "      <td>2014</td>\n",
       "      <td>Fiction</td>\n",
       "    </tr>\n",
       "    <tr>\n",
       "      <th>106</th>\n",
       "      <td>Fifty Shades of Grey: Book One of the Fifty Sh...</td>\n",
       "      <td>E L James</td>\n",
       "      <td>3.8</td>\n",
       "      <td>47265</td>\n",
       "      <td>14</td>\n",
       "      <td>2012</td>\n",
       "      <td>Fiction</td>\n",
       "    </tr>\n",
       "    <tr>\n",
       "      <th>47</th>\n",
       "      <td>Catching Fire (The Hunger Games)</td>\n",
       "      <td>Suzanne Collins</td>\n",
       "      <td>4.7</td>\n",
       "      <td>22614</td>\n",
       "      <td>11</td>\n",
       "      <td>2011</td>\n",
       "      <td>Fiction</td>\n",
       "    </tr>\n",
       "    <tr>\n",
       "      <th>84</th>\n",
       "      <td>Dog Man: Brawl of the Wild: From the Creator o...</td>\n",
       "      <td>Dav Pilkey</td>\n",
       "      <td>4.9</td>\n",
       "      <td>7235</td>\n",
       "      <td>4</td>\n",
       "      <td>2019</td>\n",
       "      <td>Fiction</td>\n",
       "    </tr>\n",
       "    <tr>\n",
       "      <th>352</th>\n",
       "      <td>The Boys in the Boat: Nine Americans and Their...</td>\n",
       "      <td>Daniel James Brown</td>\n",
       "      <td>4.8</td>\n",
       "      <td>23358</td>\n",
       "      <td>12</td>\n",
       "      <td>2015</td>\n",
       "      <td>Non Fiction</td>\n",
       "    </tr>\n",
       "    <tr>\n",
       "      <th>477</th>\n",
       "      <td>The Very Hungry Caterpillar</td>\n",
       "      <td>Eric Carle</td>\n",
       "      <td>4.9</td>\n",
       "      <td>19546</td>\n",
       "      <td>5</td>\n",
       "      <td>2014</td>\n",
       "      <td>Fiction</td>\n",
       "    </tr>\n",
       "    <tr>\n",
       "      <th>402</th>\n",
       "      <td>The Help</td>\n",
       "      <td>Kathryn Stockett</td>\n",
       "      <td>4.8</td>\n",
       "      <td>13871</td>\n",
       "      <td>6</td>\n",
       "      <td>2009</td>\n",
       "      <td>Fiction</td>\n",
       "    </tr>\n",
       "    <tr>\n",
       "      <th>475</th>\n",
       "      <td>The Unofficial Harry Potter Cookbook: From Cau...</td>\n",
       "      <td>Dinah Bucholz</td>\n",
       "      <td>4.7</td>\n",
       "      <td>9030</td>\n",
       "      <td>10</td>\n",
       "      <td>2019</td>\n",
       "      <td>Non Fiction</td>\n",
       "    </tr>\n",
       "    <tr>\n",
       "      <th>209</th>\n",
       "      <td>Laugh-Out-Loud Jokes for Kids</td>\n",
       "      <td>Rob Elliott</td>\n",
       "      <td>4.6</td>\n",
       "      <td>6990</td>\n",
       "      <td>4</td>\n",
       "      <td>2014</td>\n",
       "      <td>Non Fiction</td>\n",
       "    </tr>\n",
       "  </tbody>\n",
       "</table>\n",
       "</div>"
      ],
      "text/plain": [
       "                                                  Name                 Author  \\\n",
       "178                       If Animals Kissed Good Night      Ann Whitford Paul   \n",
       "259                                       Orphan Train  Christina Baker Kline   \n",
       "106  Fifty Shades of Grey: Book One of the Fifty Sh...              E L James   \n",
       "47                    Catching Fire (The Hunger Games)        Suzanne Collins   \n",
       "84   Dog Man: Brawl of the Wild: From the Creator o...             Dav Pilkey   \n",
       "352  The Boys in the Boat: Nine Americans and Their...     Daniel James Brown   \n",
       "477                        The Very Hungry Caterpillar             Eric Carle   \n",
       "402                                           The Help       Kathryn Stockett   \n",
       "475  The Unofficial Harry Potter Cookbook: From Cau...          Dinah Bucholz   \n",
       "209                      Laugh-Out-Loud Jokes for Kids            Rob Elliott   \n",
       "\n",
       "     User Rating  Reviews  Price  Year        Genre  \n",
       "178          4.8    16643      4  2017      Fiction  \n",
       "259          4.6    21930     11  2014      Fiction  \n",
       "106          3.8    47265     14  2012      Fiction  \n",
       "47           4.7    22614     11  2011      Fiction  \n",
       "84           4.9     7235      4  2019      Fiction  \n",
       "352          4.8    23358     12  2015  Non Fiction  \n",
       "477          4.9    19546      5  2014      Fiction  \n",
       "402          4.8    13871      6  2009      Fiction  \n",
       "475          4.7     9030     10  2019  Non Fiction  \n",
       "209          4.6     6990      4  2014  Non Fiction  "
      ]
     },
     "execution_count": 6,
     "metadata": {},
     "output_type": "execute_result"
    }
   ],
   "source": [
    "data.sample(10) # check 10 random rows of dataset"
   ]
  },
  {
   "cell_type": "code",
   "execution_count": 7,
   "metadata": {
    "id": "SfgYUa1OSVAg",
    "outputId": "8227a289-9238-40c0-a915-29100958f202"
   },
   "outputs": [
    {
     "data": {
      "text/html": [
       "<div>\n",
       "<style scoped>\n",
       "    .dataframe tbody tr th:only-of-type {\n",
       "        vertical-align: middle;\n",
       "    }\n",
       "\n",
       "    .dataframe tbody tr th {\n",
       "        vertical-align: top;\n",
       "    }\n",
       "\n",
       "    .dataframe thead th {\n",
       "        text-align: right;\n",
       "    }\n",
       "</style>\n",
       "<table border=\"1\" class=\"dataframe\">\n",
       "  <thead>\n",
       "    <tr style=\"text-align: right;\">\n",
       "      <th></th>\n",
       "      <th>Name</th>\n",
       "      <th>Author</th>\n",
       "      <th>User Rating</th>\n",
       "      <th>Reviews</th>\n",
       "      <th>Price</th>\n",
       "      <th>Year</th>\n",
       "      <th>Genre</th>\n",
       "    </tr>\n",
       "  </thead>\n",
       "  <tbody>\n",
       "    <tr>\n",
       "      <th>count</th>\n",
       "      <td>550</td>\n",
       "      <td>550</td>\n",
       "      <td>550.000000</td>\n",
       "      <td>550.000000</td>\n",
       "      <td>550.000000</td>\n",
       "      <td>550.000000</td>\n",
       "      <td>550</td>\n",
       "    </tr>\n",
       "    <tr>\n",
       "      <th>unique</th>\n",
       "      <td>351</td>\n",
       "      <td>248</td>\n",
       "      <td>NaN</td>\n",
       "      <td>NaN</td>\n",
       "      <td>NaN</td>\n",
       "      <td>NaN</td>\n",
       "      <td>2</td>\n",
       "    </tr>\n",
       "    <tr>\n",
       "      <th>top</th>\n",
       "      <td>Publication Manual of the American Psychologic...</td>\n",
       "      <td>Jeff Kinney</td>\n",
       "      <td>NaN</td>\n",
       "      <td>NaN</td>\n",
       "      <td>NaN</td>\n",
       "      <td>NaN</td>\n",
       "      <td>Non Fiction</td>\n",
       "    </tr>\n",
       "    <tr>\n",
       "      <th>freq</th>\n",
       "      <td>10</td>\n",
       "      <td>12</td>\n",
       "      <td>NaN</td>\n",
       "      <td>NaN</td>\n",
       "      <td>NaN</td>\n",
       "      <td>NaN</td>\n",
       "      <td>310</td>\n",
       "    </tr>\n",
       "    <tr>\n",
       "      <th>mean</th>\n",
       "      <td>NaN</td>\n",
       "      <td>NaN</td>\n",
       "      <td>4.618364</td>\n",
       "      <td>11953.281818</td>\n",
       "      <td>13.100000</td>\n",
       "      <td>2014.000000</td>\n",
       "      <td>NaN</td>\n",
       "    </tr>\n",
       "    <tr>\n",
       "      <th>std</th>\n",
       "      <td>NaN</td>\n",
       "      <td>NaN</td>\n",
       "      <td>0.226980</td>\n",
       "      <td>11731.132017</td>\n",
       "      <td>10.842262</td>\n",
       "      <td>3.165156</td>\n",
       "      <td>NaN</td>\n",
       "    </tr>\n",
       "    <tr>\n",
       "      <th>min</th>\n",
       "      <td>NaN</td>\n",
       "      <td>NaN</td>\n",
       "      <td>3.300000</td>\n",
       "      <td>37.000000</td>\n",
       "      <td>0.000000</td>\n",
       "      <td>2009.000000</td>\n",
       "      <td>NaN</td>\n",
       "    </tr>\n",
       "    <tr>\n",
       "      <th>25%</th>\n",
       "      <td>NaN</td>\n",
       "      <td>NaN</td>\n",
       "      <td>4.500000</td>\n",
       "      <td>4058.000000</td>\n",
       "      <td>7.000000</td>\n",
       "      <td>2011.000000</td>\n",
       "      <td>NaN</td>\n",
       "    </tr>\n",
       "    <tr>\n",
       "      <th>50%</th>\n",
       "      <td>NaN</td>\n",
       "      <td>NaN</td>\n",
       "      <td>4.700000</td>\n",
       "      <td>8580.000000</td>\n",
       "      <td>11.000000</td>\n",
       "      <td>2014.000000</td>\n",
       "      <td>NaN</td>\n",
       "    </tr>\n",
       "    <tr>\n",
       "      <th>75%</th>\n",
       "      <td>NaN</td>\n",
       "      <td>NaN</td>\n",
       "      <td>4.800000</td>\n",
       "      <td>17253.250000</td>\n",
       "      <td>16.000000</td>\n",
       "      <td>2017.000000</td>\n",
       "      <td>NaN</td>\n",
       "    </tr>\n",
       "    <tr>\n",
       "      <th>max</th>\n",
       "      <td>NaN</td>\n",
       "      <td>NaN</td>\n",
       "      <td>4.900000</td>\n",
       "      <td>87841.000000</td>\n",
       "      <td>105.000000</td>\n",
       "      <td>2019.000000</td>\n",
       "      <td>NaN</td>\n",
       "    </tr>\n",
       "  </tbody>\n",
       "</table>\n",
       "</div>"
      ],
      "text/plain": [
       "                                                     Name       Author  \\\n",
       "count                                                 550          550   \n",
       "unique                                                351          248   \n",
       "top     Publication Manual of the American Psychologic...  Jeff Kinney   \n",
       "freq                                                   10           12   \n",
       "mean                                                  NaN          NaN   \n",
       "std                                                   NaN          NaN   \n",
       "min                                                   NaN          NaN   \n",
       "25%                                                   NaN          NaN   \n",
       "50%                                                   NaN          NaN   \n",
       "75%                                                   NaN          NaN   \n",
       "max                                                   NaN          NaN   \n",
       "\n",
       "        User Rating       Reviews       Price         Year        Genre  \n",
       "count    550.000000    550.000000  550.000000   550.000000          550  \n",
       "unique          NaN           NaN         NaN          NaN            2  \n",
       "top             NaN           NaN         NaN          NaN  Non Fiction  \n",
       "freq            NaN           NaN         NaN          NaN          310  \n",
       "mean       4.618364  11953.281818   13.100000  2014.000000          NaN  \n",
       "std        0.226980  11731.132017   10.842262     3.165156          NaN  \n",
       "min        3.300000     37.000000    0.000000  2009.000000          NaN  \n",
       "25%        4.500000   4058.000000    7.000000  2011.000000          NaN  \n",
       "50%        4.700000   8580.000000   11.000000  2014.000000          NaN  \n",
       "75%        4.800000  17253.250000   16.000000  2017.000000          NaN  \n",
       "max        4.900000  87841.000000  105.000000  2019.000000          NaN  "
      ]
     },
     "execution_count": 7,
     "metadata": {},
     "output_type": "execute_result"
    }
   ],
   "source": [
    "data.describe(include='all') # check column statistics of dataset"
   ]
  },
  {
   "cell_type": "code",
   "execution_count": 8,
   "metadata": {
    "id": "kuK_P26dSVAr",
    "outputId": "3e091e08-de54-468d-97f0-8e31d4aa1a16"
   },
   "outputs": [
    {
     "name": "stdout",
     "output_type": "stream",
     "text": [
      "<class 'pandas.core.frame.DataFrame'>\n",
      "RangeIndex: 550 entries, 0 to 549\n",
      "Data columns (total 7 columns):\n",
      " #   Column       Non-Null Count  Dtype  \n",
      "---  ------       --------------  -----  \n",
      " 0   Name         550 non-null    object \n",
      " 1   Author       550 non-null    object \n",
      " 2   User Rating  550 non-null    float64\n",
      " 3   Reviews      550 non-null    int64  \n",
      " 4   Price        550 non-null    int64  \n",
      " 5   Year         550 non-null    int64  \n",
      " 6   Genre        550 non-null    object \n",
      "dtypes: float64(1), int64(3), object(3)\n",
      "memory usage: 30.2+ KB\n"
     ]
    }
   ],
   "source": [
    "data.info() # dataset info"
   ]
  },
  {
   "cell_type": "code",
   "execution_count": 9,
   "metadata": {
    "colab": {
     "base_uri": "https://localhost:8080/"
    },
    "id": "MJa0GnvMSVBN",
    "outputId": "07cadbfc-e09a-40fe-8e1b-4c79673ede8b"
   },
   "outputs": [
    {
     "data": {
      "text/plain": [
       "Name           0\n",
       "Author         0\n",
       "User Rating    0\n",
       "Reviews        0\n",
       "Price          0\n",
       "Year           0\n",
       "Genre          0\n",
       "dtype: int64"
      ]
     },
     "execution_count": 9,
     "metadata": {},
     "output_type": "execute_result"
    }
   ],
   "source": [
    "# checking for missing values\n",
    "missing_values = data.isnull().sum()\n",
    "missing_values"
   ]
  },
  {
   "cell_type": "markdown",
   "metadata": {
    "id": "XZz2dej7SVBU"
   },
   "source": [
    "There are no missing values"
   ]
  },
  {
   "cell_type": "markdown",
   "metadata": {
    "id": "eq3XVHSSbKjz"
   },
   "source": [
    "## Question 1 Visualize best selling books of the decade"
   ]
  },
  {
   "cell_type": "code",
   "execution_count": 10,
   "metadata": {
    "colab": {
     "base_uri": "https://localhost:8080/",
     "height": 195
    },
    "id": "pA4vYnbUbWry",
    "outputId": "c7e3748d-87bb-4fe5-ba29-47cafa3ec493"
   },
   "outputs": [
    {
     "data": {
      "text/html": [
       "<div>\n",
       "<style scoped>\n",
       "    .dataframe tbody tr th:only-of-type {\n",
       "        vertical-align: middle;\n",
       "    }\n",
       "\n",
       "    .dataframe tbody tr th {\n",
       "        vertical-align: top;\n",
       "    }\n",
       "\n",
       "    .dataframe thead th {\n",
       "        text-align: right;\n",
       "    }\n",
       "</style>\n",
       "<table border=\"1\" class=\"dataframe\">\n",
       "  <thead>\n",
       "    <tr style=\"text-align: right;\">\n",
       "      <th></th>\n",
       "      <th>Name</th>\n",
       "      <th>Author</th>\n",
       "      <th>User Rating</th>\n",
       "      <th>Reviews</th>\n",
       "      <th>Price</th>\n",
       "      <th>Year</th>\n",
       "      <th>Genre</th>\n",
       "    </tr>\n",
       "  </thead>\n",
       "  <tbody>\n",
       "    <tr>\n",
       "      <th>431</th>\n",
       "      <td>The Magnolia Story</td>\n",
       "      <td>Chip Gaines</td>\n",
       "      <td>4.9</td>\n",
       "      <td>7861</td>\n",
       "      <td>5</td>\n",
       "      <td>2016</td>\n",
       "      <td>Non Fiction</td>\n",
       "    </tr>\n",
       "    <tr>\n",
       "      <th>87</th>\n",
       "      <td>Dog Man: Lord of the Fleas: From the Creator o...</td>\n",
       "      <td>Dav Pilkey</td>\n",
       "      <td>4.9</td>\n",
       "      <td>5470</td>\n",
       "      <td>6</td>\n",
       "      <td>2018</td>\n",
       "      <td>Fiction</td>\n",
       "    </tr>\n",
       "    <tr>\n",
       "      <th>85</th>\n",
       "      <td>Dog Man: Fetch-22: From the Creator of Captain...</td>\n",
       "      <td>Dav Pilkey</td>\n",
       "      <td>4.9</td>\n",
       "      <td>12619</td>\n",
       "      <td>8</td>\n",
       "      <td>2019</td>\n",
       "      <td>Fiction</td>\n",
       "    </tr>\n",
       "    <tr>\n",
       "      <th>84</th>\n",
       "      <td>Dog Man: Brawl of the Wild: From the Creator o...</td>\n",
       "      <td>Dav Pilkey</td>\n",
       "      <td>4.9</td>\n",
       "      <td>7235</td>\n",
       "      <td>4</td>\n",
       "      <td>2019</td>\n",
       "      <td>Fiction</td>\n",
       "    </tr>\n",
       "    <tr>\n",
       "      <th>83</th>\n",
       "      <td>Dog Man: Brawl of the Wild: From the Creator o...</td>\n",
       "      <td>Dav Pilkey</td>\n",
       "      <td>4.9</td>\n",
       "      <td>7235</td>\n",
       "      <td>4</td>\n",
       "      <td>2018</td>\n",
       "      <td>Fiction</td>\n",
       "    </tr>\n",
       "    <tr>\n",
       "      <th>82</th>\n",
       "      <td>Dog Man: A Tale of Two Kitties: From the Creat...</td>\n",
       "      <td>Dav Pilkey</td>\n",
       "      <td>4.9</td>\n",
       "      <td>4786</td>\n",
       "      <td>8</td>\n",
       "      <td>2017</td>\n",
       "      <td>Fiction</td>\n",
       "    </tr>\n",
       "    <tr>\n",
       "      <th>81</th>\n",
       "      <td>Dog Man and Cat Kid: From the Creator of Capta...</td>\n",
       "      <td>Dav Pilkey</td>\n",
       "      <td>4.9</td>\n",
       "      <td>5062</td>\n",
       "      <td>6</td>\n",
       "      <td>2018</td>\n",
       "      <td>Fiction</td>\n",
       "    </tr>\n",
       "    <tr>\n",
       "      <th>252</th>\n",
       "      <td>Oh, the Places You'll Go!</td>\n",
       "      <td>Dr. Seuss</td>\n",
       "      <td>4.9</td>\n",
       "      <td>21834</td>\n",
       "      <td>8</td>\n",
       "      <td>2019</td>\n",
       "      <td>Fiction</td>\n",
       "    </tr>\n",
       "    <tr>\n",
       "      <th>476</th>\n",
       "      <td>The Very Hungry Caterpillar</td>\n",
       "      <td>Eric Carle</td>\n",
       "      <td>4.9</td>\n",
       "      <td>19546</td>\n",
       "      <td>5</td>\n",
       "      <td>2013</td>\n",
       "      <td>Fiction</td>\n",
       "    </tr>\n",
       "    <tr>\n",
       "      <th>477</th>\n",
       "      <td>The Very Hungry Caterpillar</td>\n",
       "      <td>Eric Carle</td>\n",
       "      <td>4.9</td>\n",
       "      <td>19546</td>\n",
       "      <td>5</td>\n",
       "      <td>2014</td>\n",
       "      <td>Fiction</td>\n",
       "    </tr>\n",
       "  </tbody>\n",
       "</table>\n",
       "</div>"
      ],
      "text/plain": [
       "                                                  Name       Author  \\\n",
       "431                                 The Magnolia Story  Chip Gaines   \n",
       "87   Dog Man: Lord of the Fleas: From the Creator o...   Dav Pilkey   \n",
       "85   Dog Man: Fetch-22: From the Creator of Captain...   Dav Pilkey   \n",
       "84   Dog Man: Brawl of the Wild: From the Creator o...   Dav Pilkey   \n",
       "83   Dog Man: Brawl of the Wild: From the Creator o...   Dav Pilkey   \n",
       "82   Dog Man: A Tale of Two Kitties: From the Creat...   Dav Pilkey   \n",
       "81   Dog Man and Cat Kid: From the Creator of Capta...   Dav Pilkey   \n",
       "252                          Oh, the Places You'll Go!    Dr. Seuss   \n",
       "476                        The Very Hungry Caterpillar   Eric Carle   \n",
       "477                        The Very Hungry Caterpillar   Eric Carle   \n",
       "\n",
       "     User Rating  Reviews  Price  Year        Genre  \n",
       "431          4.9     7861      5  2016  Non Fiction  \n",
       "87           4.9     5470      6  2018      Fiction  \n",
       "85           4.9    12619      8  2019      Fiction  \n",
       "84           4.9     7235      4  2019      Fiction  \n",
       "83           4.9     7235      4  2018      Fiction  \n",
       "82           4.9     4786      8  2017      Fiction  \n",
       "81           4.9     5062      6  2018      Fiction  \n",
       "252          4.9    21834      8  2019      Fiction  \n",
       "476          4.9    19546      5  2013      Fiction  \n",
       "477          4.9    19546      5  2014      Fiction  "
      ]
     },
     "execution_count": 10,
     "metadata": {},
     "output_type": "execute_result"
    }
   ],
   "source": [
    "#to avoid clumsiness and for easy intepretation we visualize the first 10 of the best selling books of the decade sorted by user ratings\n",
    "best_selling = data.sort_values(by='User Rating',ascending=False).head(10)\n",
    "best_selling"
   ]
  },
  {
   "cell_type": "code",
   "execution_count": 11,
   "metadata": {},
   "outputs": [
    {
     "data": {
      "image/png": "[encoded data removed]",
      "text/plain": [
       "<Figure size 1080x504 with 1 Axes>"
      ]
     },
     "metadata": {
      "needs_background": "light"
     },
     "output_type": "display_data"
    }
   ],
   "source": [
    "ax=best_selling.plot(kind='line',x='Name',y='Year')#plot for object data types\n",
    "for item in ax.get_xticklabels():#to give room for the x axis labels\n",
    "    item.set_rotation(90)\n",
    "    \n",
    "ax.set_title(\"Best selling books of the decade\")\n",
    "plt.savefig('Best_selling_books.png')"
   ]
  },
  {
   "cell_type": "markdown",
   "metadata": {
    "id": "sYRgPqSjSVBs"
   },
   "source": [
    "## Question 2 visualize the percentage of fiction to non fiction"
   ]
  },
  {
   "cell_type": "code",
   "execution_count": 12,
   "metadata": {
    "colab": {
     "base_uri": "https://localhost:8080/"
    },
    "id": "LwkNO7xplgZd",
    "outputId": "64560023-e139-4b2c-882c-95561030edc4"
   },
   "outputs": [
    {
     "data": {
      "text/plain": [
       "Non Fiction    310\n",
       "Fiction        240\n",
       "Name: Genre, dtype: int64"
      ]
     },
     "execution_count": 12,
     "metadata": {},
     "output_type": "execute_result"
    }
   ],
   "source": [
    "# count values for different genre\n",
    "data['Genre'].value_counts()"
   ]
  },
  {
   "cell_type": "code",
   "execution_count": 13,
   "metadata": {
    "colab": {
     "base_uri": "https://localhost:8080/"
    },
    "id": "HdScBqMLlqvS",
    "outputId": "59b3a52a-c460-4a81-acf9-15b0edf17e79"
   },
   "outputs": [
    {
     "data": {
      "text/plain": [
       "Non Fiction    56.363636\n",
       "Fiction        43.636364\n",
       "Name: Genre, dtype: float64"
      ]
     },
     "execution_count": 13,
     "metadata": {},
     "output_type": "execute_result"
    }
   ],
   "source": [
    "# get percentage for each count\n",
    "perc = data['Genre'].value_counts(normalize=True)*100\n",
    "perc"
   ]
  },
  {
   "cell_type": "code",
   "execution_count": 14,
   "metadata": {
    "colab": {
     "base_uri": "https://localhost:8080/"
    },
    "id": "mbK_BEEpudOj",
    "outputId": "c8aa8ad9-ea94-4ea8-ac8b-7c925524f8a3"
   },
   "outputs": [
    {
     "data": {
      "text/plain": [
       "Index(['Non Fiction', 'Fiction'], dtype='object')"
      ]
     },
     "execution_count": 14,
     "metadata": {},
     "output_type": "execute_result"
    }
   ],
   "source": [
    "perc.keys()"
   ]
  },
  {
   "cell_type": "code",
   "execution_count": 15,
   "metadata": {
    "colab": {
     "base_uri": "https://localhost:8080/",
     "height": 374
    },
    "id": "BIQPsj-_sU_E",
    "outputId": "31a83021-934b-4898-f373-57a8dd69a8db"
   },
   "outputs": [
    {
     "data": {
      "image/png": "[encoded data removed]",
      "text/plain": [
       "<Figure size 1080x504 with 1 Axes>"
      ]
     },
     "metadata": {},
     "output_type": "display_data"
    }
   ],
   "source": [
    "# pie plot with matplotlib, autopct allows formatting percentage string\n",
    "labels = perc.keys() # get labels from perc\n",
    "plt.pie(x=perc, autopct=\"%.1f%%\", explode=[0.02]*2, labels=labels, pctdistance=0.5)\n",
    "plt.title(\"Genre Percentage\");"
   ]
  },
  {
   "cell_type": "markdown",
   "metadata": {
    "id": "fWsYIFdJSVCH"
   },
   "source": [
    "## Question 3 visualize trend over the years "
   ]
  },
  {
   "cell_type": "code",
   "execution_count": 16,
   "metadata": {
    "colab": {
     "base_uri": "https://localhost:8080/",
     "height": 279
    },
    "id": "l0hcevMFSVCI",
    "outputId": "6910e82c-ae57-49fc-d52d-1ce12cb02e15"
   },
   "outputs": [
    {
     "data": {
      "image/png": "[encoded data removed]",
      "text/plain": [
       "<Figure size 1080x504 with 1 Axes>"
      ]
     },
     "metadata": {
      "needs_background": "light"
     },
     "output_type": "display_data"
    }
   ],
   "source": [
    "# visualizing trends over the years using a line chart\n",
    "sns.lineplot(data=data,x='Year',y='Price',hue='Genre');\n"
   ]
  },
  {
   "cell_type": "markdown",
   "metadata": {
    "id": "120sMhCUSVCL"
   },
   "source": [
    "The prices of non fiction rose for about 5 years from 2009 till 2014 but dropped drastically in 2015 and was till 2019 below 15 dollars.Also,fiction are quite cheaper than non fiction. Though the prices of fiction have been unstable over the decade,they never exceeded that of non fiction. "
   ]
  },
  {
   "cell_type": "code",
   "execution_count": 17,
   "metadata": {
    "colab": {
     "base_uri": "https://localhost:8080/",
     "height": 279
    },
    "id": "MSr3QJqFSVCN",
    "outputId": "b266c443-11cd-4d84-c129-8eb37e9058aa"
   },
   "outputs": [
    {
     "data": {
      "image/png": "[encoded data removed]",
      "text/plain": [
       "<Figure size 1080x504 with 1 Axes>"
      ]
     },
     "metadata": {
      "needs_background": "light"
     },
     "output_type": "display_data"
    }
   ],
   "source": [
    "sns.lineplot(data=data,x='Year',y='Reviews',hue='Genre');"
   ]
  },
  {
   "cell_type": "markdown",
   "metadata": {
    "id": "fTSuelNkSVCQ"
   },
   "source": [
    "we can deduce that Fiction has always been getting more reviews than Non Fiction except for the year 2018 when the reviews for Non Fiction went up"
   ]
  },
  {
   "cell_type": "markdown",
   "metadata": {
    "id": "vInHZoUVSVCS"
   },
   "source": [
    "## Question 4 Visualize top ten authors according to reviews"
   ]
  },
  {
   "cell_type": "markdown",
   "metadata": {},
   "source": [
    "To access the top ten authors based on reviews,we will have to drop some duplicate rows since we have authors whose books were best sellers for more than a year with the same number of reviews"
   ]
  },
  {
   "cell_type": "code",
   "execution_count": 18,
   "metadata": {},
   "outputs": [
    {
     "data": {
      "text/html": [
       "<div>\n",
       "<style scoped>\n",
       "    .dataframe tbody tr th:only-of-type {\n",
       "        vertical-align: middle;\n",
       "    }\n",
       "\n",
       "    .dataframe tbody tr th {\n",
       "        vertical-align: top;\n",
       "    }\n",
       "\n",
       "    .dataframe thead th {\n",
       "        text-align: right;\n",
       "    }\n",
       "</style>\n",
       "<table border=\"1\" class=\"dataframe\">\n",
       "  <thead>\n",
       "    <tr style=\"text-align: right;\">\n",
       "      <th></th>\n",
       "      <th>Name</th>\n",
       "      <th>Author</th>\n",
       "      <th>User Rating</th>\n",
       "      <th>Reviews</th>\n",
       "      <th>Price</th>\n",
       "      <th>Year</th>\n",
       "      <th>Genre</th>\n",
       "    </tr>\n",
       "  </thead>\n",
       "  <tbody>\n",
       "    <tr>\n",
       "      <th>0</th>\n",
       "      <td>10-Day Green Smoothie Cleanse</td>\n",
       "      <td>JJ Smith</td>\n",
       "      <td>4.7</td>\n",
       "      <td>17350</td>\n",
       "      <td>8</td>\n",
       "      <td>2016</td>\n",
       "      <td>Non Fiction</td>\n",
       "    </tr>\n",
       "    <tr>\n",
       "      <th>1</th>\n",
       "      <td>11/22/63: A Novel</td>\n",
       "      <td>Stephen King</td>\n",
       "      <td>4.6</td>\n",
       "      <td>2052</td>\n",
       "      <td>22</td>\n",
       "      <td>2011</td>\n",
       "      <td>Fiction</td>\n",
       "    </tr>\n",
       "    <tr>\n",
       "      <th>2</th>\n",
       "      <td>12 Rules for Life: An Antidote to Chaos</td>\n",
       "      <td>Jordan B. Peterson</td>\n",
       "      <td>4.7</td>\n",
       "      <td>18979</td>\n",
       "      <td>15</td>\n",
       "      <td>2018</td>\n",
       "      <td>Non Fiction</td>\n",
       "    </tr>\n",
       "    <tr>\n",
       "      <th>3</th>\n",
       "      <td>1984 (Signet Classics)</td>\n",
       "      <td>George Orwell</td>\n",
       "      <td>4.7</td>\n",
       "      <td>21424</td>\n",
       "      <td>6</td>\n",
       "      <td>2017</td>\n",
       "      <td>Fiction</td>\n",
       "    </tr>\n",
       "    <tr>\n",
       "      <th>4</th>\n",
       "      <td>5,000 Awesome Facts (About Everything!) (Natio...</td>\n",
       "      <td>National Geographic Kids</td>\n",
       "      <td>4.8</td>\n",
       "      <td>7665</td>\n",
       "      <td>12</td>\n",
       "      <td>2019</td>\n",
       "      <td>Non Fiction</td>\n",
       "    </tr>\n",
       "    <tr>\n",
       "      <th>...</th>\n",
       "      <td>...</td>\n",
       "      <td>...</td>\n",
       "      <td>...</td>\n",
       "      <td>...</td>\n",
       "      <td>...</td>\n",
       "      <td>...</td>\n",
       "      <td>...</td>\n",
       "    </tr>\n",
       "    <tr>\n",
       "      <th>346</th>\n",
       "      <td>Winter of the World: Book Two of the Century T...</td>\n",
       "      <td>Ken Follett</td>\n",
       "      <td>4.5</td>\n",
       "      <td>10760</td>\n",
       "      <td>15</td>\n",
       "      <td>2012</td>\n",
       "      <td>Fiction</td>\n",
       "    </tr>\n",
       "    <tr>\n",
       "      <th>347</th>\n",
       "      <td>Women Food and God: An Unexpected Path to Almo...</td>\n",
       "      <td>Geneen Roth</td>\n",
       "      <td>4.2</td>\n",
       "      <td>1302</td>\n",
       "      <td>11</td>\n",
       "      <td>2010</td>\n",
       "      <td>Non Fiction</td>\n",
       "    </tr>\n",
       "    <tr>\n",
       "      <th>348</th>\n",
       "      <td>Wonder</td>\n",
       "      <td>R. J. Palacio</td>\n",
       "      <td>4.8</td>\n",
       "      <td>21625</td>\n",
       "      <td>9</td>\n",
       "      <td>2013</td>\n",
       "      <td>Fiction</td>\n",
       "    </tr>\n",
       "    <tr>\n",
       "      <th>349</th>\n",
       "      <td>Wrecking Ball (Diary of a Wimpy Kid Book 14)</td>\n",
       "      <td>Jeff Kinney</td>\n",
       "      <td>4.9</td>\n",
       "      <td>9413</td>\n",
       "      <td>8</td>\n",
       "      <td>2019</td>\n",
       "      <td>Fiction</td>\n",
       "    </tr>\n",
       "    <tr>\n",
       "      <th>350</th>\n",
       "      <td>You Are a Badass: How to Stop Doubting Your Gr...</td>\n",
       "      <td>Jen Sincero</td>\n",
       "      <td>4.7</td>\n",
       "      <td>14331</td>\n",
       "      <td>8</td>\n",
       "      <td>2016</td>\n",
       "      <td>Non Fiction</td>\n",
       "    </tr>\n",
       "  </tbody>\n",
       "</table>\n",
       "<p>351 rows × 7 columns</p>\n",
       "</div>"
      ],
      "text/plain": [
       "                                                  Name  \\\n",
       "0                        10-Day Green Smoothie Cleanse   \n",
       "1                                    11/22/63: A Novel   \n",
       "2              12 Rules for Life: An Antidote to Chaos   \n",
       "3                               1984 (Signet Classics)   \n",
       "4    5,000 Awesome Facts (About Everything!) (Natio...   \n",
       "..                                                 ...   \n",
       "346  Winter of the World: Book Two of the Century T...   \n",
       "347  Women Food and God: An Unexpected Path to Almo...   \n",
       "348                                             Wonder   \n",
       "349       Wrecking Ball (Diary of a Wimpy Kid Book 14)   \n",
       "350  You Are a Badass: How to Stop Doubting Your Gr...   \n",
       "\n",
       "                       Author  User Rating  Reviews  Price  Year        Genre  \n",
       "0                    JJ Smith          4.7    17350      8  2016  Non Fiction  \n",
       "1                Stephen King          4.6     2052     22  2011      Fiction  \n",
       "2          Jordan B. Peterson          4.7    18979     15  2018  Non Fiction  \n",
       "3               George Orwell          4.7    21424      6  2017      Fiction  \n",
       "4    National Geographic Kids          4.8     7665     12  2019  Non Fiction  \n",
       "..                        ...          ...      ...    ...   ...          ...  \n",
       "346               Ken Follett          4.5    10760     15  2012      Fiction  \n",
       "347               Geneen Roth          4.2     1302     11  2010  Non Fiction  \n",
       "348             R. J. Palacio          4.8    21625      9  2013      Fiction  \n",
       "349               Jeff Kinney          4.9     9413      8  2019      Fiction  \n",
       "350               Jen Sincero          4.7    14331      8  2016  Non Fiction  \n",
       "\n",
       "[351 rows x 7 columns]"
      ]
     },
     "execution_count": 18,
     "metadata": {},
     "output_type": "execute_result"
    }
   ],
   "source": [
    "#dropping duplicate rows and keeping only the first one\n",
    "data=data.drop_duplicates(subset='Name',keep='first',inplace=False).reset_index(drop=True)\n",
    "data"
   ]
  },
  {
   "cell_type": "code",
   "execution_count": 19,
   "metadata": {
    "colab": {
     "base_uri": "https://localhost:8080/",
     "height": 343
    },
    "id": "ZXbLL_sESVCV",
    "outputId": "14e76b92-ef14-4df2-caf3-ccf548d45c15"
   },
   "outputs": [
    {
     "data": {
      "text/html": [
       "<div>\n",
       "<style scoped>\n",
       "    .dataframe tbody tr th:only-of-type {\n",
       "        vertical-align: middle;\n",
       "    }\n",
       "\n",
       "    .dataframe tbody tr th {\n",
       "        vertical-align: top;\n",
       "    }\n",
       "\n",
       "    .dataframe thead th {\n",
       "        text-align: right;\n",
       "    }\n",
       "</style>\n",
       "<table border=\"1\" class=\"dataframe\">\n",
       "  <thead>\n",
       "    <tr style=\"text-align: right;\">\n",
       "      <th></th>\n",
       "      <th>Name</th>\n",
       "      <th>Author</th>\n",
       "      <th>User Rating</th>\n",
       "      <th>Reviews</th>\n",
       "      <th>Price</th>\n",
       "      <th>Year</th>\n",
       "      <th>Genre</th>\n",
       "    </tr>\n",
       "  </thead>\n",
       "  <tbody>\n",
       "    <tr>\n",
       "      <th>342</th>\n",
       "      <td>Where the Crawdads Sing</td>\n",
       "      <td>Delia Owens</td>\n",
       "      <td>4.8</td>\n",
       "      <td>87841</td>\n",
       "      <td>15</td>\n",
       "      <td>2019</td>\n",
       "      <td>Fiction</td>\n",
       "    </tr>\n",
       "    <tr>\n",
       "      <th>245</th>\n",
       "      <td>The Girl on the Train</td>\n",
       "      <td>Paula Hawkins</td>\n",
       "      <td>4.1</td>\n",
       "      <td>79446</td>\n",
       "      <td>18</td>\n",
       "      <td>2015</td>\n",
       "      <td>Fiction</td>\n",
       "    </tr>\n",
       "    <tr>\n",
       "      <th>30</th>\n",
       "      <td>Becoming</td>\n",
       "      <td>Michelle Obama</td>\n",
       "      <td>4.8</td>\n",
       "      <td>61133</td>\n",
       "      <td>11</td>\n",
       "      <td>2018</td>\n",
       "      <td>Non Fiction</td>\n",
       "    </tr>\n",
       "    <tr>\n",
       "      <th>104</th>\n",
       "      <td>Gone Girl</td>\n",
       "      <td>Gillian Flynn</td>\n",
       "      <td>4.0</td>\n",
       "      <td>57271</td>\n",
       "      <td>10</td>\n",
       "      <td>2012</td>\n",
       "      <td>Fiction</td>\n",
       "    </tr>\n",
       "    <tr>\n",
       "      <th>240</th>\n",
       "      <td>The Fault in Our Stars</td>\n",
       "      <td>John Green</td>\n",
       "      <td>4.7</td>\n",
       "      <td>50482</td>\n",
       "      <td>13</td>\n",
       "      <td>2012</td>\n",
       "      <td>Fiction</td>\n",
       "    </tr>\n",
       "    <tr>\n",
       "      <th>280</th>\n",
       "      <td>The Nightingale: A Novel</td>\n",
       "      <td>Kristin Hannah</td>\n",
       "      <td>4.8</td>\n",
       "      <td>49288</td>\n",
       "      <td>11</td>\n",
       "      <td>2015</td>\n",
       "      <td>Fiction</td>\n",
       "    </tr>\n",
       "    <tr>\n",
       "      <th>87</th>\n",
       "      <td>Fifty Shades of Grey: Book One of the Fifty Sh...</td>\n",
       "      <td>E L James</td>\n",
       "      <td>3.8</td>\n",
       "      <td>47265</td>\n",
       "      <td>14</td>\n",
       "      <td>2012</td>\n",
       "      <td>Fiction</td>\n",
       "    </tr>\n",
       "    <tr>\n",
       "      <th>276</th>\n",
       "      <td>The Martian</td>\n",
       "      <td>Andy Weir</td>\n",
       "      <td>4.7</td>\n",
       "      <td>39459</td>\n",
       "      <td>9</td>\n",
       "      <td>2015</td>\n",
       "      <td>Fiction</td>\n",
       "    </tr>\n",
       "    <tr>\n",
       "      <th>19</th>\n",
       "      <td>All the Light We Cannot See</td>\n",
       "      <td>Anthony Doerr</td>\n",
       "      <td>4.6</td>\n",
       "      <td>36348</td>\n",
       "      <td>14</td>\n",
       "      <td>2014</td>\n",
       "      <td>Fiction</td>\n",
       "    </tr>\n",
       "    <tr>\n",
       "      <th>220</th>\n",
       "      <td>The Alchemist</td>\n",
       "      <td>Paulo Coelho</td>\n",
       "      <td>4.7</td>\n",
       "      <td>35799</td>\n",
       "      <td>39</td>\n",
       "      <td>2014</td>\n",
       "      <td>Fiction</td>\n",
       "    </tr>\n",
       "  </tbody>\n",
       "</table>\n",
       "</div>"
      ],
      "text/plain": [
       "                                                  Name          Author  \\\n",
       "342                            Where the Crawdads Sing     Delia Owens   \n",
       "245                              The Girl on the Train   Paula Hawkins   \n",
       "30                                            Becoming  Michelle Obama   \n",
       "104                                          Gone Girl   Gillian Flynn   \n",
       "240                             The Fault in Our Stars      John Green   \n",
       "280                           The Nightingale: A Novel  Kristin Hannah   \n",
       "87   Fifty Shades of Grey: Book One of the Fifty Sh...       E L James   \n",
       "276                                        The Martian       Andy Weir   \n",
       "19                         All the Light We Cannot See   Anthony Doerr   \n",
       "220                                      The Alchemist    Paulo Coelho   \n",
       "\n",
       "     User Rating  Reviews  Price  Year        Genre  \n",
       "342          4.8    87841     15  2019      Fiction  \n",
       "245          4.1    79446     18  2015      Fiction  \n",
       "30           4.8    61133     11  2018  Non Fiction  \n",
       "104          4.0    57271     10  2012      Fiction  \n",
       "240          4.7    50482     13  2012      Fiction  \n",
       "280          4.8    49288     11  2015      Fiction  \n",
       "87           3.8    47265     14  2012      Fiction  \n",
       "276          4.7    39459      9  2015      Fiction  \n",
       "19           4.6    36348     14  2014      Fiction  \n",
       "220          4.7    35799     39  2014      Fiction  "
      ]
     },
     "execution_count": 19,
     "metadata": {},
     "output_type": "execute_result"
    }
   ],
   "source": [
    "# sorting for the top 10 authors according to reviews.\n",
    "top_10_authors = data.sort_values(by=['Reviews'],ascending=False).head(10)\n",
    "top_10_authors   "
   ]
  },
  {
   "cell_type": "code",
   "execution_count": 20,
   "metadata": {
    "colab": {
     "base_uri": "https://localhost:8080/",
     "height": 448
    },
    "id": "x-uJS6iySVCY",
    "outputId": "bc85e90f-48ba-41aa-95d1-06f0e1338d1f"
   },
   "outputs": [
    {
     "data": {
      "image/png": "[encoded data removed]",
      "text/plain": [
       "<Figure size 1080x504 with 1 Axes>"
      ]
     },
     "metadata": {},
     "output_type": "display_data"
    }
   ],
   "source": [
    "# visualizing top 10 authors based on reviews\n",
    "sns.set(rc={'figure.figsize':(15,7)})\n",
    "sns.barplot(data=top_10_authors,x='Author',y='Reviews');"
   ]
  },
  {
   "cell_type": "markdown",
   "metadata": {
    "id": "xjNkGLE9SVCa"
   },
   "source": [
    "The top 10 authors based on reviews are displayed in the barplot above"
   ]
  },
  {
   "cell_type": "code",
   "execution_count": null,
   "metadata": {
    "id": "2CcbHphcllqK"
   },
   "outputs": [],
   "source": []
  }
 ],
 "metadata": {
  "colab": {
   "name": "Data Science technical assessment.ipynb",
   "provenance": []
  },
  "kernelspec": {
   "display_name": "Python 3",
   "language": "python",
   "name": "python3"
  },
  "language_info": {
   "codemirror_mode": {
    "name": "ipython",
    "version": 3
   },
   "file_extension": ".py",
   "mimetype": "text/x-python",
   "name": "python",
   "nbconvert_exporter": "python",
   "pygments_lexer": "ipython3",
   "version": "3.8.5"
  }
 },
 "nbformat": 4,
 "nbformat_minor": 1
}
